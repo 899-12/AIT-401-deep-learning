{
 "cells": [
  {
   "cell_type": "code",
   "execution_count": 4,
   "id": "4860e81f-44a3-41e1-ab6c-bc784978ad25",
   "metadata": {},
   "outputs": [],
   "source": [
    "import os\n",
    "import time\n",
    "import tensorflow as tf\n",
    "from tensorflow.keras.datasets import cifar10, mnist\n",
    "import tensorflow_datasets as tfds\n",
    "import tensorflow\n",
    "from tensorflow.keras.models import Sequential\n",
    "from tensorflow.keras import (\n",
    "    models,\n",
    "    layers,\n",
    ") \n",
    "from matplotlib import pyplot as plt\n",
    "import numpy as np\n",
    "import random\n",
    "from sklearn.metrics import confusion_matrix, classification_report\n",
    "import matplotlib.pyplot as plt"
   ]
  },
  {
   "cell_type": "code",
   "execution_count": 5,
   "id": "f49c0dbc-d051-4eb1-8608-a359aacea145",
   "metadata": {},
   "outputs": [
    {
     "name": "stdout",
     "output_type": "stream",
     "text": [
      "Downloading data from https://storage.googleapis.com/tensorflow/tf-keras-datasets/mnist.npz\n",
      "11490434/11490434 [==============================] - 5s 0us/step\n"
     ]
    }
   ],
   "source": [
    "(x_train,y_train), (x_test,y_test) = mnist.load_data()"
   ]
  },
  {
   "cell_type": "code",
   "execution_count": 6,
   "id": "70c89155-17b3-45b8-a28f-ebce827a61d5",
   "metadata": {},
   "outputs": [
    {
     "data": {
      "text/plain": [
       "(60000, 28, 28)"
      ]
     },
     "execution_count": 6,
     "metadata": {},
     "output_type": "execute_result"
    }
   ],
   "source": [
    "x_train.shape"
   ]
  },
  {
   "cell_type": "code",
   "execution_count": 9,
   "id": "a7cd2da7-6013-4404-b62f-ee57effacaa6",
   "metadata": {},
   "outputs": [
    {
     "data": {
      "text/plain": [
       "<matplotlib.image.AxesImage at 0x29db1cdc0>"
      ]
     },
     "execution_count": 9,
     "metadata": {},
     "output_type": "execute_result"
    },
    {
     "data": {
      "image/png": "[encoded data removed]",
      "text/plain": [
       "<Figure size 640x480 with 1 Axes>"
      ]
     },
     "metadata": {},
     "output_type": "display_data"
    }
   ],
   "source": [
    "plt.imshow(x_train[0],cmap='gray')"
   ]
  },
  {
   "cell_type": "code",
   "execution_count": 10,
   "id": "ddcf1e0c-ea09-4ff0-bdd9-3a82ed71b3e8",
   "metadata": {},
   "outputs": [
    {
     "data": {
      "text/plain": [
       "255"
      ]
     },
     "execution_count": 10,
     "metadata": {},
     "output_type": "execute_result"
    }
   ],
   "source": [
    "x_train[0].max()"
   ]
  },
  {
   "cell_type": "code",
   "execution_count": 11,
   "id": "464e2930-e163-428e-89e3-1bfec29e416d",
   "metadata": {},
   "outputs": [
    {
     "data": {
      "text/plain": [
       "255"
      ]
     },
     "execution_count": 11,
     "metadata": {},
     "output_type": "execute_result"
    }
   ],
   "source": [
    "x_train.max()"
   ]
  },
  {
   "cell_type": "code",
   "execution_count": 12,
   "id": "fe0381b0-896b-489a-a757-9d10e3a76056",
   "metadata": {},
   "outputs": [],
   "source": [
    "x_train = x_train/x_train.max()\n",
    "x_test = x_test/x_train.max()"
   ]
  },
  {
   "cell_type": "code",
   "execution_count": 15,
   "id": "8260f5ca-ef4b-43fa-bd1a-a3bbad7aff82",
   "metadata": {},
   "outputs": [],
   "source": [
    "model = Sequential([\n",
    "    tensorflow.keras.layers.Flatten(input_shape=(28,28)),\n",
    "    tensorflow.keras.layers.Dense(\n",
    "        128,\n",
    "        activation = 'relu',\n",
    "        kernel_initializer=tf.keras.initializers.HeNormal()\n",
    "    ),\n",
    "    tensorflow.keras.layers.Dense(\n",
    "        64,\n",
    "        activation = 'relu'\n",
    "    ),\n",
    "    tensorflow.keras.layers.Dense(\n",
    "        10,\n",
    "        activation='softmax'\n",
    "    )\n",
    "]\n",
    ")"
   ]
  },
  {
   "cell_type": "code",
   "execution_count": 16,
   "id": "239eee71-92c5-4169-83bd-8a6e847cc721",
   "metadata": {},
   "outputs": [
    {
     "name": "stderr",
     "output_type": "stream",
     "text": [
      "WARNING:absl:At this time, the v2.11+ optimizer `tf.keras.optimizers.Adam` runs slowly on M1/M2 Macs, please use the legacy Keras optimizer instead, located at `tf.keras.optimizers.legacy.Adam`.\n",
      "WARNING:absl:There is a known slowdown when using v2.11+ Keras optimizers on M1/M2 Macs. Falling back to the legacy Keras optimizer, i.e., `tf.keras.optimizers.legacy.Adam`.\n"
     ]
    }
   ],
   "source": [
    "model.compile(\n",
    "    optimizer=tf.keras.optimizers.Adam(0.001),\n",
    "    loss=tf.keras.losses.SparseCategoricalCrossentropy(from_logits=True),\n",
    "    metrics=[tf.keras.metrics.SparseCategoricalAccuracy()],\n",
    ")"
   ]
  },
  {
   "cell_type": "code",
   "execution_count": 17,
   "id": "f019de0d-e1b2-41cc-8ff6-192645e9491f",
   "metadata": {},
   "outputs": [
    {
     "name": "stdout",
     "output_type": "stream",
     "text": [
      "Epoch 1/25\n"
     ]
    },
    {
     "name": "stderr",
     "output_type": "stream",
     "text": [
      "/Users/binilkuriachan/anaconda3/envs/ail-411-env/lib/python3.9/site-packages/keras/src/backend.py:5714: UserWarning: \"`sparse_categorical_crossentropy` received `from_logits=True`, but the `output` argument was produced by a Softmax activation and thus does not represent logits. Was this intended?\n",
      "  output, from_logits = _get_logits(\n"
     ]
    },
    {
     "name": "stdout",
     "output_type": "stream",
     "text": [
      "118/118 [==============================] - 2s 8ms/step - loss: 0.5801 - sparse_categorical_accuracy: 0.8309 - val_loss: 44.9703 - val_sparse_categorical_accuracy: 0.9109\n",
      "Epoch 2/25\n",
      "118/118 [==============================] - 1s 5ms/step - loss: 0.3120 - sparse_categorical_accuracy: 0.9122 - val_loss: 46.8213 - val_sparse_categorical_accuracy: 0.9150\n",
      "Epoch 3/25\n",
      "118/118 [==============================] - 1s 5ms/step - loss: 0.2991 - sparse_categorical_accuracy: 0.9172 - val_loss: 55.9842 - val_sparse_categorical_accuracy: 0.9087\n",
      "Epoch 4/25\n",
      "118/118 [==============================] - 1s 5ms/step - loss: 0.3116 - sparse_categorical_accuracy: 0.9136 - val_loss: 61.7186 - val_sparse_categorical_accuracy: 0.8966\n",
      "Epoch 5/25\n",
      "118/118 [==============================] - 1s 5ms/step - loss: 0.3314 - sparse_categorical_accuracy: 0.9077 - val_loss: 75.2682 - val_sparse_categorical_accuracy: 0.8840\n",
      "Epoch 6/25\n",
      "118/118 [==============================] - 1s 5ms/step - loss: 0.3533 - sparse_categorical_accuracy: 0.9032 - val_loss: 97.6747 - val_sparse_categorical_accuracy: 0.8739\n",
      "Epoch 7/25\n",
      "118/118 [==============================] - 1s 5ms/step - loss: 0.4141 - sparse_categorical_accuracy: 0.8903 - val_loss: 141.4046 - val_sparse_categorical_accuracy: 0.8393\n",
      "Epoch 8/25\n",
      "118/118 [==============================] - 1s 5ms/step - loss: 0.4892 - sparse_categorical_accuracy: 0.8805 - val_loss: 135.2588 - val_sparse_categorical_accuracy: 0.8481\n",
      "Epoch 9/25\n",
      "118/118 [==============================] - 1s 5ms/step - loss: 0.5404 - sparse_categorical_accuracy: 0.8733 - val_loss: 194.2263 - val_sparse_categorical_accuracy: 0.8249\n",
      "Epoch 10/25\n",
      "118/118 [==============================] - 1s 5ms/step - loss: 0.6540 - sparse_categorical_accuracy: 0.8628 - val_loss: 179.1127 - val_sparse_categorical_accuracy: 0.8506\n",
      "Epoch 11/25\n",
      "118/118 [==============================] - 1s 5ms/step - loss: 0.6678 - sparse_categorical_accuracy: 0.8641 - val_loss: 145.3242 - val_sparse_categorical_accuracy: 0.8677\n",
      "Epoch 12/25\n",
      "118/118 [==============================] - 1s 5ms/step - loss: 0.7802 - sparse_categorical_accuracy: 0.8580 - val_loss: 155.7725 - val_sparse_categorical_accuracy: 0.8658\n",
      "Epoch 13/25\n",
      "118/118 [==============================] - 1s 5ms/step - loss: 0.8700 - sparse_categorical_accuracy: 0.8523 - val_loss: 290.8919 - val_sparse_categorical_accuracy: 0.8202\n",
      "Epoch 14/25\n",
      "118/118 [==============================] - 1s 5ms/step - loss: 0.9462 - sparse_categorical_accuracy: 0.8499 - val_loss: 225.7195 - val_sparse_categorical_accuracy: 0.8563\n",
      "Epoch 15/25\n",
      "118/118 [==============================] - 1s 5ms/step - loss: 0.9034 - sparse_categorical_accuracy: 0.8617 - val_loss: 224.6807 - val_sparse_categorical_accuracy: 0.8628\n",
      "Epoch 16/25\n",
      "118/118 [==============================] - 1s 5ms/step - loss: 1.1347 - sparse_categorical_accuracy: 0.8426 - val_loss: 218.3324 - val_sparse_categorical_accuracy: 0.8722\n",
      "Epoch 17/25\n",
      "118/118 [==============================] - 1s 5ms/step - loss: 1.1655 - sparse_categorical_accuracy: 0.8461 - val_loss: 406.8325 - val_sparse_categorical_accuracy: 0.7838\n",
      "Epoch 18/25\n",
      "118/118 [==============================] - 1s 5ms/step - loss: 1.2232 - sparse_categorical_accuracy: 0.8479 - val_loss: 566.9130 - val_sparse_categorical_accuracy: 0.7810\n",
      "Epoch 19/25\n",
      "118/118 [==============================] - 1s 5ms/step - loss: 1.7013 - sparse_categorical_accuracy: 0.8267 - val_loss: 422.9113 - val_sparse_categorical_accuracy: 0.8344\n",
      "Epoch 20/25\n",
      "118/118 [==============================] - 1s 5ms/step - loss: 1.3327 - sparse_categorical_accuracy: 0.8498 - val_loss: 391.8163 - val_sparse_categorical_accuracy: 0.8447\n",
      "Epoch 21/25\n",
      "118/118 [==============================] - 1s 5ms/step - loss: 1.9081 - sparse_categorical_accuracy: 0.8239 - val_loss: 504.2924 - val_sparse_categorical_accuracy: 0.8224\n",
      "Epoch 22/25\n",
      "118/118 [==============================] - 1s 5ms/step - loss: 1.6915 - sparse_categorical_accuracy: 0.8460 - val_loss: 548.1818 - val_sparse_categorical_accuracy: 0.7957\n",
      "Epoch 23/25\n",
      "118/118 [==============================] - 1s 5ms/step - loss: 2.0872 - sparse_categorical_accuracy: 0.8262 - val_loss: 494.8345 - val_sparse_categorical_accuracy: 0.8283\n",
      "Epoch 24/25\n",
      "118/118 [==============================] - 1s 5ms/step - loss: 2.0123 - sparse_categorical_accuracy: 0.8361 - val_loss: 678.1781 - val_sparse_categorical_accuracy: 0.8028\n",
      "Epoch 25/25\n",
      "118/118 [==============================] - 1s 5ms/step - loss: 1.9324 - sparse_categorical_accuracy: 0.8447 - val_loss: 680.8424 - val_sparse_categorical_accuracy: 0.8199\n",
      "Time taken for training:  17.272419929504395  seconds\n"
     ]
    }
   ],
   "source": [
    "start_time = time.time()\n",
    "history = model.fit(x_train,\n",
    "                    y_train,\n",
    "                    epochs=25,\n",
    "                    batch_size=512,\n",
    "                    validation_data=(x_test, y_test))\n",
    "end_time = time.time()\n",
    "total_time = end_time - start_time\n",
    "\n",
    "print(\"Time taken for training: \", total_time, \" seconds\")"
   ]
  },
  {
   "cell_type": "code",
   "execution_count": null,
   "id": "8ca786e2-893f-4b65-9444-c1c19e1cce5a",
   "metadata": {},
   "outputs": [],
   "source": []
  }
 ],
 "metadata": {
  "kernelspec": {
   "display_name": "Python 3 (ipykernel)",
   "language": "python",
   "name": "python3"
  },
  "language_info": {
   "codemirror_mode": {
    "name": "ipython",
    "version": 3
   },
   "file_extension": ".py",
   "mimetype": "text/x-python",
   "name": "python",
   "nbconvert_exporter": "python",
   "pygments_lexer": "ipython3",
   "version": "3.9.16"
  }
 },
 "nbformat": 4,
 "nbformat_minor": 5
}
